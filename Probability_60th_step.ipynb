{
 "cells": [
  {
   "cell_type": "code",
   "execution_count": 1,
   "metadata": {
    "collapsed": true
   },
   "outputs": [],
   "source": [
    "import numpy as np\n",
    "np.random.seed(123)"
   ]
  },
  {
   "cell_type": "code",
   "execution_count": 2,
   "metadata": {
    "collapsed": true
   },
   "outputs": [],
   "source": [
    "# 100 throws of dice\n",
    "# If dice = 1,2 go down by 1 step\n",
    "# If dice = 3,4,5 go up by 1 step\n",
    "# if dice = 6, then throw dice again and go up by value on dice\n",
    "# You can go below step 0 \n",
    "# And you have 0.1% chance of falling, which mean you will start from step 0\n",
    "# You have to reach step 60, what is the chace u will win this bet"
   ]
  },
  {
   "cell_type": "code",
   "execution_count": 3,
   "metadata": {
    "collapsed": true
   },
   "outputs": [],
   "source": [
    "# We can stimulate 100 throws for many times and get the distribution for each time and based on distribution \n",
    "# we can get the chance/probability"
   ]
  },
  {
   "cell_type": "code",
   "execution_count": 4,
   "metadata": {},
   "outputs": [],
   "source": [
    "random_walk = []\n",
    "for i in range(500):\n",
    "    step = [0]\n",
    "    for i in range(100):\n",
    "        dice = np.random.randint(1,7)\n",
    "        if dice <= 2:\n",
    "            step.append(max(0,step[-1]-1))\n",
    "        elif dice > 2 and dice < 6:\n",
    "            step.append(step[-1]+1)\n",
    "        else:\n",
    "            step.append(step[-1]+np.random.randint(1,7))\n",
    "    random_walk.append(step)"
   ]
  },
  {
   "cell_type": "code",
   "execution_count": 5,
   "metadata": {},
   "outputs": [
    {
     "name": "stdout",
     "output_type": "stream",
     "text": [
      "(500, 101)\n",
      "[[ 0  3  4 ... 58 59 60]\n",
      " [ 0  4  3 ... 70 71 73]\n",
      " [ 0  2  1 ... 85 84 83]\n",
      " ...\n",
      " [ 0  1  2 ... 95 94 95]\n",
      " [ 0  3  2 ... 80 81 80]\n",
      " [ 0  1  2 ... 60 59 60]]\n"
     ]
    }
   ],
   "source": [
    "#Random Walk Has path for 100 dice rows in each of 250 simulation\n",
    "random_walk = np.array(random_walk)\n",
    "print(random_walk.shape)\n",
    "print(random_walk)"
   ]
  },
  {
   "cell_type": "code",
   "execution_count": 6,
   "metadata": {},
   "outputs": [
    {
     "name": "stdout",
     "output_type": "stream",
     "text": [
      "[[ 0  0  0 ...  0  0  0]\n",
      " [ 3  4  2 ...  1  3  1]\n",
      " [ 4  3  1 ...  2  2  2]\n",
      " ...\n",
      " [58 70 85 ... 95 80 60]\n",
      " [59 71 84 ... 94 81 59]\n",
      " [60 73 83 ... 95 80 60]]\n"
     ]
    }
   ],
   "source": [
    "#  Now if we take the transpose of random walk , then we will have for the step number for 250 trials\n",
    "random_walk_transpose = np.transpose(random_walk)\n",
    "print(random_walk_transpose)"
   ]
  },
  {
   "cell_type": "code",
   "execution_count": 7,
   "metadata": {
    "collapsed": true
   },
   "outputs": [],
   "source": [
    "#So here we can compare in Trial 1, after the 1st throw of dice what was the step position\n",
    "#Accessing the last elements of 2d numpy array will give us the final step we are in "
   ]
  },
  {
   "cell_type": "code",
   "execution_count": 8,
   "metadata": {},
   "outputs": [
    {
     "name": "stdout",
     "output_type": "stream",
     "text": [
      "[ 60  73  83  68  73 106  63  76  60  87  62  77  62  58  83  96  91 104\n",
      "  69  74  50  60  89  86  98  46  48  71  99  61  71  57  70  52  89  74\n",
      "  69  83  79  83  95  66  62  60  84  40  77 117  45  77  76  70  78  72\n",
      "  76  54  79  95  72  74  85 103  97  82  93  77  54  95  67  66  90  62\n",
      "  70  78  60 101  58  61  60  80  84  84  70  51  72  79  86  87  99  92\n",
      "  49  81  88  63  72  52  84 101  82  79  58  64  68 101  74  91  44  85\n",
      "  78  85  55  74  54  68  61  81  71 101  71 102 102  67  55 103  47  69\n",
      "  78  87  83  73  78  87  57  62  70  58  90  62  87  68  82  80  71  72\n",
      "  55  81  38  79  94  69  76  56 101  71  77  77  67  72  87  49  64  86\n",
      "  88  65 102 118  97  92  69  63  45  69  48  95  85  71  72  84  82  76\n",
      "  48  79  91  65  78  69  74  53  70  70  98  99  86  82  75  59  74  83\n",
      "  80  65  97  52  61  86  64  87  95  66  54  63  95  89  72  63  84  61\n",
      "  57  87  62 111  78  83  40  66  99  81  62  85  99  57  63  78  66  64\n",
      "  68  86  50  57  72  71  85  90  72  88  76  68  52  64  56  61  54  40\n",
      "  82  58  95  70  71  91  98  84  80  50  80  87  60  89  62  95 101  97\n",
      "  56  84  90  78  70  88  59  81 105  45  75  99  72  82  87  81  83  80\n",
      "  87  81  53  47  90  87 105  87  77  65  79  72  48  89  98  65  92  82\n",
      "  70  74 113  50  73  48 100  79  61 102  87  75  81  82  77  71  91  54\n",
      " 114  55 106  80  55 114  81  64 120  48  70  64  61  84  75  48  74  82\n",
      "  54  69  67  46  63  68  39  79  77  84  93  54 102  71  61  60  66  91\n",
      "  48  82  80  66 122  73  65  78  83  66  67  91  69  78  82  94  72  96\n",
      "  65  78  83  66  84  68  95  74  76  82  74  77  73  72  92  82  78  73\n",
      "  69  73  55  84  66  71  87  60  76  96  97  37  36  91  77  94  92  69\n",
      "  58  57  38  76  82  80  77  65  52  55  60  76  95 108  82  74  99  61\n",
      "  89  67 104  59  93  74  84  64  52  88  76  60  65  44  97  53  63  84\n",
      "  61  74  49  52  68  69  69  77  59  94  71 119  70  92 107  70 103  99\n",
      "  82  94  68  71  83  90  76  48  73 107  89  71  88  58  75  68  77  69\n",
      "  70  92  73  82  83  59  89  62  66  83  62  95  80  60]\n"
     ]
    }
   ],
   "source": [
    "final_steps = random_walk_transpose[-1]\n",
    "print(final_steps)"
   ]
  },
  {
   "cell_type": "code",
   "execution_count": 9,
   "metadata": {},
   "outputs": [
    {
     "data": {
      "text/plain": [
       "0.84"
      ]
     },
     "execution_count": 9,
     "metadata": {},
     "output_type": "execute_result"
    }
   ],
   "source": [
    "len(final_steps[final_steps >= 60])/len(final_steps)"
   ]
  },
  {
   "cell_type": "code",
   "execution_count": null,
   "metadata": {
    "collapsed": true
   },
   "outputs": [],
   "source": []
  }
 ],
 "metadata": {
  "kernelspec": {
   "display_name": "Python 3",
   "language": "python",
   "name": "python3"
  },
  "language_info": {
   "codemirror_mode": {
    "name": "ipython",
    "version": 3
   },
   "file_extension": ".py",
   "mimetype": "text/x-python",
   "name": "python",
   "nbconvert_exporter": "python",
   "pygments_lexer": "ipython3",
   "version": "3.6.1"
  }
 },
 "nbformat": 4,
 "nbformat_minor": 2
}
